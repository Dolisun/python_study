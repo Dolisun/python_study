{
 "cells": [
  {
   "cell_type": "code",
   "execution_count": 1,
   "metadata": {},
   "outputs": [],
   "source": [
    "import torch\n",
    "from torch.autograd import Variable"
   ]
  },
  {
   "cell_type": "code",
   "execution_count": 2,
   "metadata": {},
   "outputs": [],
   "source": [
    "x_data = [1.0, 2.0, 3.0]\n",
    "y_data = [2.0, 4.0, 6.0]\n",
    "w = Variable(torch.Tensor([1.0]), requires_grad=True)"
   ]
  },
  {
   "cell_type": "code",
   "execution_count": 3,
   "metadata": {},
   "outputs": [],
   "source": [
    "def forward(x):\n",
    "    return x * w\n",
    "\n",
    "def loss(x, y):\n",
    "    y_pred = forward(x)\n",
    "    return 0.5 * (y_pred - y) ** 2"
   ]
  },
  {
   "cell_type": "code",
   "execution_count": 4,
   "metadata": {},
   "outputs": [
    {
     "name": "stdout",
     "output_type": "stream",
     "text": [
      "predict (before training) 4 tensor(4.)\n"
     ]
    }
   ],
   "source": [
    "print(\"predict (before training)\", 4, forward(4).data[0])"
   ]
  },
  {
   "cell_type": "code",
   "execution_count": 5,
   "metadata": {},
   "outputs": [
    {
     "name": "stdout",
     "output_type": "stream",
     "text": [
      "\t grad: 1.0 2.0 tensor(-1.)\n",
      "\t grad: 2.0 4.0 tensor(-3.9600)\n",
      "\t grad: 3.0 6.0 tensor(-8.5536)\n",
      "progress: 0 tensor(4.0647)\n",
      "\t grad: 1.0 2.0 tensor(-0.8649)\n",
      "\t grad: 2.0 4.0 tensor(-3.4249)\n",
      "\t grad: 3.0 6.0 tensor(-7.3977)\n",
      "progress: 1 tensor(3.0403)\n",
      "\t grad: 1.0 2.0 tensor(-0.7480)\n",
      "\t grad: 2.0 4.0 tensor(-2.9620)\n",
      "\t grad: 3.0 6.0 tensor(-6.3980)\n",
      "progress: 2 tensor(2.2741)\n",
      "\t grad: 1.0 2.0 tensor(-0.6469)\n",
      "\t grad: 2.0 4.0 tensor(-2.5618)\n",
      "\t grad: 3.0 6.0 tensor(-5.5334)\n",
      "progress: 3 tensor(1.7010)\n",
      "\t grad: 1.0 2.0 tensor(-0.5595)\n",
      "\t grad: 2.0 4.0 tensor(-2.2156)\n",
      "\t grad: 3.0 6.0 tensor(-4.7856)\n",
      "progress: 4 tensor(1.2724)\n",
      "\t grad: 1.0 2.0 tensor(-0.4839)\n",
      "\t grad: 2.0 4.0 tensor(-1.9162)\n",
      "\t grad: 3.0 6.0 tensor(-4.1389)\n",
      "progress: 5 tensor(0.9517)\n",
      "\t grad: 1.0 2.0 tensor(-0.4185)\n",
      "\t grad: 2.0 4.0 tensor(-1.6572)\n",
      "\t grad: 3.0 6.0 tensor(-3.5796)\n",
      "progress: 6 tensor(0.7119)\n",
      "\t grad: 1.0 2.0 tensor(-0.3619)\n",
      "\t grad: 2.0 4.0 tensor(-1.4333)\n",
      "\t grad: 3.0 6.0 tensor(-3.0959)\n",
      "progress: 7 tensor(0.5325)\n",
      "\t grad: 1.0 2.0 tensor(-0.3130)\n",
      "\t grad: 2.0 4.0 tensor(-1.2396)\n",
      "\t grad: 3.0 6.0 tensor(-2.6775)\n",
      "progress: 8 tensor(0.3983)\n",
      "\t grad: 1.0 2.0 tensor(-0.2707)\n",
      "\t grad: 2.0 4.0 tensor(-1.0721)\n",
      "\t grad: 3.0 6.0 tensor(-2.3157)\n",
      "progress: 9 tensor(0.2979)\n"
     ]
    }
   ],
   "source": [
    "for epoch in range(10):\n",
    "    for x_val, y_val in zip(x_data, y_data):\n",
    "        l = loss(x_val, y_val)\n",
    "        l.backward()\n",
    "        print(\"\\t grad:\", x_val, y_val, w.grad.data[0])\n",
    "        w.data = w.data - 0.01 * w.grad.data\n",
    "        w.grad.data.zero_()\n",
    "    print(\"progress:\", epoch, l.data[0])"
   ]
  },
  {
   "cell_type": "code",
   "execution_count": 6,
   "metadata": {},
   "outputs": [
    {
     "name": "stdout",
     "output_type": "stream",
     "text": [
      "predict (after training) 4 tensor(7.0634)\n"
     ]
    }
   ],
   "source": [
    "print(\"predict (after training)\", 4, forward(4).data[0])"
   ]
  },
  {
   "cell_type": "code",
   "execution_count": null,
   "metadata": {},
   "outputs": [],
   "source": []
  }
 ],
 "metadata": {
  "kernelspec": {
   "display_name": "Python 3",
   "language": "python",
   "name": "python3"
  },
  "language_info": {
   "codemirror_mode": {
    "name": "ipython",
    "version": 3
   },
   "file_extension": ".py",
   "mimetype": "text/x-python",
   "name": "python",
   "nbconvert_exporter": "python",
   "pygments_lexer": "ipython3",
   "version": "3.6.5"
  }
 },
 "nbformat": 4,
 "nbformat_minor": 2
}
