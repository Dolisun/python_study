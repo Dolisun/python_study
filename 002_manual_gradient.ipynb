{
 "cells": [
  {
   "cell_type": "code",
   "execution_count": 1,
   "metadata": {},
   "outputs": [],
   "source": [
    "x_data = [1.0, 2.0, 3.0]\n",
    "y_data = [2.0, 4.0, 6.0]\n",
    "w = 1.0"
   ]
  },
  {
   "cell_type": "code",
   "execution_count": 2,
   "metadata": {},
   "outputs": [],
   "source": [
    "def forward(x):\n",
    "    return x * w\n",
    "\n",
    "def loss(x, y):\n",
    "    y_pred = forward(x)\n",
    "    return 0.5 * (y_pred - y) ** 2\n",
    "\n",
    "def gradient(x, y):\n",
    "    return x * (x * w - y)"
   ]
  },
  {
   "cell_type": "code",
   "execution_count": 3,
   "metadata": {},
   "outputs": [
    {
     "name": "stdout",
     "output_type": "stream",
     "text": [
      "predict (before training) 4 4.0\n"
     ]
    }
   ],
   "source": [
    "print('predict (before training)', 4, forward(4))"
   ]
  },
  {
   "cell_type": "code",
   "execution_count": 5,
   "metadata": {},
   "outputs": [
    {
     "name": "stdout",
     "output_type": "stream",
     "text": [
      "\t grad: 1.0 2.0 -1.0\n",
      "\t grad: 2.0 4.0 -3.96\n",
      "\t grad: 3.0 6.0 -8.55\n",
      "progress: 0 w= 1.14 loss= 1\n",
      "\t grad: 1.0 2.0 -0.86\n",
      "\t grad: 2.0 4.0 -3.42\n",
      "\t grad: 3.0 6.0 -7.4\n",
      "progress: 1 w= 1.25 loss= 1\n",
      "\t grad: 1.0 2.0 -0.75\n",
      "\t grad: 2.0 4.0 -2.96\n",
      "\t grad: 3.0 6.0 -6.4\n",
      "progress: 2 w= 1.35 loss= 1\n",
      "\t grad: 1.0 2.0 -0.65\n",
      "\t grad: 2.0 4.0 -2.56\n",
      "\t grad: 3.0 6.0 -5.53\n",
      "progress: 3 w= 1.44 loss= 1\n",
      "\t grad: 1.0 2.0 -0.56\n",
      "\t grad: 2.0 4.0 -2.22\n",
      "\t grad: 3.0 6.0 -4.79\n",
      "progress: 4 w= 1.52 loss= 1\n",
      "\t grad: 1.0 2.0 -0.48\n",
      "\t grad: 2.0 4.0 -1.92\n",
      "\t grad: 3.0 6.0 -4.14\n",
      "progress: 5 w= 1.58 loss= 1\n",
      "\t grad: 1.0 2.0 -0.42\n",
      "\t grad: 2.0 4.0 -1.66\n",
      "\t grad: 3.0 6.0 -3.58\n",
      "progress: 6 w= 1.64 loss= 1\n",
      "\t grad: 1.0 2.0 -0.36\n",
      "\t grad: 2.0 4.0 -1.43\n",
      "\t grad: 3.0 6.0 -3.1\n",
      "progress: 7 w= 1.69 loss= 1\n",
      "\t grad: 1.0 2.0 -0.31\n",
      "\t grad: 2.0 4.0 -1.24\n",
      "\t grad: 3.0 6.0 -2.68\n",
      "progress: 8 w= 1.73 loss= 1\n",
      "\t grad: 1.0 2.0 -0.27\n",
      "\t grad: 2.0 4.0 -1.07\n",
      "\t grad: 3.0 6.0 -2.32\n",
      "progress: 9 w= 1.77 loss= 1\n",
      "predict (after training) 4 hours 7.063434424191582\n"
     ]
    }
   ],
   "source": [
    "for epoch in range(10):\n",
    "    for x_val, y_val in zip(x_data, y_data):\n",
    "        grad = gradient(x_val, y_val)\n",
    "        w = w - 0.01 * grad\n",
    "        print(\"\\t grad:\", x_val, y_val, round(grad, 2))\n",
    "        l = loss(x_val, y_val)\n",
    "    print(\"progress:\", epoch, \"w=\", round(w, 2), \"loss=\", round(1, 2))\n",
    "print(\"predict (after training)\", \"4 hours\", forward(4))"
   ]
  },
  {
   "cell_type": "code",
   "execution_count": null,
   "metadata": {},
   "outputs": [],
   "source": []
  }
 ],
 "metadata": {
  "kernelspec": {
   "display_name": "Python 3",
   "language": "python",
   "name": "python3"
  },
  "language_info": {
   "codemirror_mode": {
    "name": "ipython",
    "version": 3
   },
   "file_extension": ".py",
   "mimetype": "text/x-python",
   "name": "python",
   "nbconvert_exporter": "python",
   "pygments_lexer": "ipython3",
   "version": "3.6.5"
  }
 },
 "nbformat": 4,
 "nbformat_minor": 2
}
