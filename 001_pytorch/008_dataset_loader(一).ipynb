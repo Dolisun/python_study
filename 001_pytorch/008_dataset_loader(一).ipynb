{
 "cells": [
  {
   "cell_type": "code",
   "execution_count": 1,
   "metadata": {},
   "outputs": [],
   "source": [
    "import torch\n",
    "import numpy as np\n",
    "from torch.autograd import Variable\n",
    "from torch.utils.data import Dataset, DataLoader, TensorDataset"
   ]
  },
  {
   "cell_type": "code",
   "execution_count": 2,
   "metadata": {},
   "outputs": [],
   "source": [
    "xy = np.loadtxt('data/diabetes.csv.gz', delimiter=',', dtype=np.float32)\n",
    "x_data = torch.from_numpy(xy[:, 0:-1])\n",
    "y_data = torch.from_numpy(xy[:, [-1]])\n",
    "dataset = TensorDataset(x_data, y_data)\n",
    "train_loader = DataLoader(dataset=dataset, batch_size=32, shuffle=True, num_workers=2)"
   ]
  },
  {
   "cell_type": "code",
   "execution_count": 3,
   "metadata": {},
   "outputs": [
    {
     "data": {
      "text/plain": [
       "(759, 9)"
      ]
     },
     "execution_count": 3,
     "metadata": {},
     "output_type": "execute_result"
    }
   ],
   "source": [
    "xy.shape"
   ]
  },
  {
   "cell_type": "code",
   "execution_count": 4,
   "metadata": {},
   "outputs": [
    {
     "name": "stdout",
     "output_type": "stream",
     "text": [
      "0 0 inputs torch.Size([32, 8]) labels torch.Size([32, 1])\n",
      "0 1 inputs torch.Size([32, 8]) labels torch.Size([32, 1])\n",
      "0 2 inputs torch.Size([32, 8]) labels torch.Size([32, 1])\n",
      "0 3 inputs torch.Size([32, 8]) labels torch.Size([32, 1])\n",
      "0 4 inputs torch.Size([32, 8]) labels torch.Size([32, 1])\n",
      "0 5 inputs torch.Size([32, 8]) labels torch.Size([32, 1])\n",
      "0 6 inputs torch.Size([32, 8]) labels torch.Size([32, 1])\n",
      "0 7 inputs torch.Size([32, 8]) labels torch.Size([32, 1])\n",
      "0 8 inputs torch.Size([32, 8]) labels torch.Size([32, 1])\n",
      "0 9 inputs torch.Size([32, 8]) labels torch.Size([32, 1])\n",
      "0 10 inputs torch.Size([32, 8]) labels torch.Size([32, 1])\n",
      "0 11 inputs torch.Size([32, 8]) labels torch.Size([32, 1])\n",
      "0 12 inputs torch.Size([32, 8]) labels torch.Size([32, 1])\n",
      "0 13 inputs torch.Size([32, 8]) labels torch.Size([32, 1])\n",
      "0 14 inputs torch.Size([32, 8]) labels torch.Size([32, 1])\n",
      "0 15 inputs torch.Size([32, 8]) labels torch.Size([32, 1])\n",
      "0 16 inputs torch.Size([32, 8]) labels torch.Size([32, 1])\n",
      "0 17 inputs torch.Size([32, 8]) labels torch.Size([32, 1])\n",
      "0 18 inputs torch.Size([32, 8]) labels torch.Size([32, 1])\n",
      "0 19 inputs torch.Size([32, 8]) labels torch.Size([32, 1])\n",
      "0 20 inputs torch.Size([32, 8]) labels torch.Size([32, 1])\n",
      "0 21 inputs torch.Size([32, 8]) labels torch.Size([32, 1])\n",
      "0 22 inputs torch.Size([32, 8]) labels torch.Size([32, 1])\n",
      "0 23 inputs torch.Size([23, 8]) labels torch.Size([23, 1])\n",
      "1 0 inputs torch.Size([32, 8]) labels torch.Size([32, 1])\n",
      "1 1 inputs torch.Size([32, 8]) labels torch.Size([32, 1])\n",
      "1 2 inputs torch.Size([32, 8]) labels torch.Size([32, 1])\n",
      "1 3 inputs torch.Size([32, 8]) labels torch.Size([32, 1])\n",
      "1 4 inputs torch.Size([32, 8]) labels torch.Size([32, 1])\n",
      "1 5 inputs torch.Size([32, 8]) labels torch.Size([32, 1])\n",
      "1 6 inputs torch.Size([32, 8]) labels torch.Size([32, 1])\n",
      "1 7 inputs torch.Size([32, 8]) labels torch.Size([32, 1])\n",
      "1 8 inputs torch.Size([32, 8]) labels torch.Size([32, 1])\n",
      "1 9 inputs torch.Size([32, 8]) labels torch.Size([32, 1])\n",
      "1 10 inputs torch.Size([32, 8]) labels torch.Size([32, 1])\n",
      "1 11 inputs torch.Size([32, 8]) labels torch.Size([32, 1])\n",
      "1 12 inputs torch.Size([32, 8]) labels torch.Size([32, 1])\n",
      "1 13 inputs torch.Size([32, 8]) labels torch.Size([32, 1])\n",
      "1 14 inputs torch.Size([32, 8]) labels torch.Size([32, 1])\n",
      "1 15 inputs torch.Size([32, 8]) labels torch.Size([32, 1])\n",
      "1 16 inputs torch.Size([32, 8]) labels torch.Size([32, 1])\n",
      "1 17 inputs torch.Size([32, 8]) labels torch.Size([32, 1])\n",
      "1 18 inputs torch.Size([32, 8]) labels torch.Size([32, 1])\n",
      "1 19 inputs torch.Size([32, 8]) labels torch.Size([32, 1])\n",
      "1 20 inputs torch.Size([32, 8]) labels torch.Size([32, 1])\n",
      "1 21 inputs torch.Size([32, 8]) labels torch.Size([32, 1])\n",
      "1 22 inputs torch.Size([32, 8]) labels torch.Size([32, 1])\n",
      "1 23 inputs torch.Size([23, 8]) labels torch.Size([23, 1])\n"
     ]
    }
   ],
   "source": [
    "for epoch in range(2):\n",
    "    for i, data in enumerate(train_loader):\n",
    "        # get the inputs\n",
    "        inputs, labels = data\n",
    "\n",
    "        # wrap them in Variable\n",
    "        inputs, labels = Variable(inputs), Variable(labels)\n",
    "\n",
    "        # Run your training process\n",
    "        print(epoch, i, \"inputs\", inputs.data.shape, \"labels\", labels.data.shape)"
   ]
  },
  {
   "cell_type": "code",
   "execution_count": null,
   "metadata": {},
   "outputs": [],
   "source": []
  }
 ],
 "metadata": {
  "kernelspec": {
   "display_name": "Python 3",
   "language": "python",
   "name": "python3"
  },
  "language_info": {
   "codemirror_mode": {
    "name": "ipython",
    "version": 3
   },
   "file_extension": ".py",
   "mimetype": "text/x-python",
   "name": "python",
   "nbconvert_exporter": "python",
   "pygments_lexer": "ipython3",
   "version": "3.6.5"
  }
 },
 "nbformat": 4,
 "nbformat_minor": 2
}
