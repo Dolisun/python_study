{
 "cells": [
  {
   "cell_type": "markdown",
   "metadata": {},
   "source": [
    "### 数据连接：链接: https://pan.baidu.com/s/15R1G4U3W4DKJ5zCV-dhjVA 提取码: es2j "
   ]
  },
  {
   "cell_type": "code",
   "execution_count": 1,
   "metadata": {},
   "outputs": [],
   "source": [
    "import torch \n",
    "from torch.autograd import Variable\n",
    "import numpy as np"
   ]
  },
  {
   "cell_type": "code",
   "execution_count": 2,
   "metadata": {},
   "outputs": [],
   "source": [
    "xy = np.loadtxt('data/diabetes.csv.gz', delimiter=',', dtype=np.float32)\n",
    "x_data = Variable(torch.from_numpy(xy[:, 0:-1]))\n",
    "y_data = Variable(torch.from_numpy(xy[:, [-1]]))"
   ]
  },
  {
   "cell_type": "code",
   "execution_count": 3,
   "metadata": {},
   "outputs": [
    {
     "name": "stdout",
     "output_type": "stream",
     "text": [
      "torch.Size([759, 8])\n",
      "torch.Size([759, 1])\n"
     ]
    }
   ],
   "source": [
    "print(x_data.shape)\n",
    "print(y_data.shape)"
   ]
  },
  {
   "cell_type": "code",
   "execution_count": 4,
   "metadata": {},
   "outputs": [],
   "source": [
    "class Model(torch.nn.Module):\n",
    "    def __init__(self):\n",
    "        super(Model, self).__init__()\n",
    "        self.l1 = torch.nn.Linear(8, 6)\n",
    "        self.l2 = torch.nn.Linear(6, 4)\n",
    "        self.l3 = torch.nn.Linear(4, 1)\n",
    "        self.sigmoid = torch.nn.Sigmoid()\n",
    "    \n",
    "    def forward(self, x):\n",
    "        out1 = self.sigmoid(self.l1(x))\n",
    "        out2 = self.sigmoid(self.l2(out1))\n",
    "        y_pred = self.sigmoid(self.l3(out2))\n",
    "        return y_pred"
   ]
  },
  {
   "cell_type": "code",
   "execution_count": 5,
   "metadata": {},
   "outputs": [],
   "source": [
    "model = Model()\n",
    "criterion = torch.nn.BCELoss(reduction='mean')\n",
    "optimizer = torch.optim.SGD(model.parameters(), lr=0.1)"
   ]
  },
  {
   "cell_type": "code",
   "execution_count": 6,
   "metadata": {},
   "outputs": [
    {
     "name": "stdout",
     "output_type": "stream",
     "text": [
      "0 tensor(0.7345)\n",
      "1 tensor(0.7258)\n",
      "2 tensor(0.7180)\n",
      "3 tensor(0.7109)\n",
      "4 tensor(0.7045)\n",
      "5 tensor(0.6987)\n",
      "6 tensor(0.6935)\n",
      "7 tensor(0.6888)\n",
      "8 tensor(0.6846)\n",
      "9 tensor(0.6808)\n",
      "10 tensor(0.6773)\n",
      "11 tensor(0.6742)\n",
      "12 tensor(0.6714)\n",
      "13 tensor(0.6689)\n",
      "14 tensor(0.6666)\n",
      "15 tensor(0.6645)\n",
      "16 tensor(0.6627)\n",
      "17 tensor(0.6610)\n",
      "18 tensor(0.6595)\n",
      "19 tensor(0.6581)\n",
      "20 tensor(0.6568)\n",
      "21 tensor(0.6557)\n",
      "22 tensor(0.6547)\n",
      "23 tensor(0.6538)\n",
      "24 tensor(0.6530)\n",
      "25 tensor(0.6522)\n",
      "26 tensor(0.6515)\n",
      "27 tensor(0.6509)\n",
      "28 tensor(0.6504)\n",
      "29 tensor(0.6499)\n",
      "30 tensor(0.6494)\n",
      "31 tensor(0.6490)\n",
      "32 tensor(0.6486)\n",
      "33 tensor(0.6483)\n",
      "34 tensor(0.6480)\n",
      "35 tensor(0.6477)\n",
      "36 tensor(0.6474)\n",
      "37 tensor(0.6472)\n",
      "38 tensor(0.6470)\n",
      "39 tensor(0.6468)\n",
      "40 tensor(0.6466)\n",
      "41 tensor(0.6465)\n",
      "42 tensor(0.6463)\n",
      "43 tensor(0.6462)\n",
      "44 tensor(0.6461)\n",
      "45 tensor(0.6460)\n",
      "46 tensor(0.6459)\n",
      "47 tensor(0.6458)\n",
      "48 tensor(0.6457)\n",
      "49 tensor(0.6457)\n",
      "50 tensor(0.6456)\n",
      "51 tensor(0.6455)\n",
      "52 tensor(0.6455)\n",
      "53 tensor(0.6454)\n",
      "54 tensor(0.6454)\n",
      "55 tensor(0.6454)\n",
      "56 tensor(0.6453)\n",
      "57 tensor(0.6453)\n",
      "58 tensor(0.6453)\n",
      "59 tensor(0.6452)\n",
      "60 tensor(0.6452)\n",
      "61 tensor(0.6452)\n",
      "62 tensor(0.6452)\n",
      "63 tensor(0.6451)\n",
      "64 tensor(0.6451)\n",
      "65 tensor(0.6451)\n",
      "66 tensor(0.6451)\n",
      "67 tensor(0.6451)\n",
      "68 tensor(0.6451)\n",
      "69 tensor(0.6451)\n",
      "70 tensor(0.6450)\n",
      "71 tensor(0.6450)\n",
      "72 tensor(0.6450)\n",
      "73 tensor(0.6450)\n",
      "74 tensor(0.6450)\n",
      "75 tensor(0.6450)\n",
      "76 tensor(0.6450)\n",
      "77 tensor(0.6450)\n",
      "78 tensor(0.6450)\n",
      "79 tensor(0.6450)\n",
      "80 tensor(0.6450)\n",
      "81 tensor(0.6450)\n",
      "82 tensor(0.6450)\n",
      "83 tensor(0.6450)\n",
      "84 tensor(0.6450)\n",
      "85 tensor(0.6450)\n",
      "86 tensor(0.6450)\n",
      "87 tensor(0.6450)\n",
      "88 tensor(0.6450)\n",
      "89 tensor(0.6450)\n",
      "90 tensor(0.6450)\n",
      "91 tensor(0.6450)\n",
      "92 tensor(0.6450)\n",
      "93 tensor(0.6449)\n",
      "94 tensor(0.6449)\n",
      "95 tensor(0.6449)\n",
      "96 tensor(0.6449)\n",
      "97 tensor(0.6449)\n",
      "98 tensor(0.6449)\n",
      "99 tensor(0.6449)\n"
     ]
    }
   ],
   "source": [
    "for epoch in range(100):\n",
    "    y_pred = model(x_data)\n",
    "    loss = criterion(y_pred, y_data)\n",
    "    print(epoch , loss.data)\n",
    "    \n",
    "    optimizer.zero_grad()\n",
    "    loss.backward()\n",
    "    optimizer.step()"
   ]
  },
  {
   "cell_type": "code",
   "execution_count": null,
   "metadata": {},
   "outputs": [],
   "source": []
  }
 ],
 "metadata": {
  "kernelspec": {
   "display_name": "Python 3",
   "language": "python",
   "name": "python3"
  },
  "language_info": {
   "codemirror_mode": {
    "name": "ipython",
    "version": 3
   },
   "file_extension": ".py",
   "mimetype": "text/x-python",
   "name": "python",
   "nbconvert_exporter": "python",
   "pygments_lexer": "ipython3",
   "version": "3.6.5"
  }
 },
 "nbformat": 4,
 "nbformat_minor": 2
}
