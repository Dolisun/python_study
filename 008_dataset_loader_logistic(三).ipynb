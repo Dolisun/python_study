{
 "cells": [
  {
   "cell_type": "code",
   "execution_count": 1,
   "metadata": {},
   "outputs": [],
   "source": [
    "import torch\n",
    "import numpy as np\n",
    "from torch.autograd import Variable\n",
    "from torch.utils.data import TensorDataset, DataLoader"
   ]
  },
  {
   "cell_type": "code",
   "execution_count": 2,
   "metadata": {},
   "outputs": [],
   "source": [
    "xy = np.loadtxt('./data/diabetes.csv.gz',\n",
    "                        delimiter=',', dtype=np.float32)\n",
    "x_data = torch.from_numpy(xy[:, 0:-1])\n",
    "y_data = torch.from_numpy(xy[:, [-1]])"
   ]
  },
  {
   "cell_type": "code",
   "execution_count": 3,
   "metadata": {},
   "outputs": [],
   "source": [
    "dataset = TensorDataset(x_data, y_data)\n",
    "train_loader = DataLoader(dataset=dataset, batch_size=32, shuffle=True, num_workers=2)"
   ]
  },
  {
   "cell_type": "code",
   "execution_count": 4,
   "metadata": {},
   "outputs": [],
   "source": [
    "class Model(torch.nn.Module):\n",
    "\n",
    "    def __init__(self):\n",
    "        \"\"\"\n",
    "        In the constructor we instantiate two nn.Linear module\n",
    "        \"\"\"\n",
    "        super(Model, self).__init__()\n",
    "        self.l1 = torch.nn.Linear(8, 6)\n",
    "        self.l2 = torch.nn.Linear(6, 4)\n",
    "        self.l3 = torch.nn.Linear(4, 1)\n",
    "\n",
    "        self.sigmoid = torch.nn.Sigmoid()\n",
    "\n",
    "    def forward(self, x):\n",
    "        \"\"\"\n",
    "        In the forward function we accept a Variable of input data and we must return\n",
    "        a Variable of output data. We can use Modules defined in the constructor as\n",
    "        well as arbitrary operators on Variables.\n",
    "        \"\"\"\n",
    "        out1 = self.sigmoid(self.l1(x))\n",
    "        out2 = self.sigmoid(self.l2(out1))\n",
    "        y_pred = self.sigmoid(self.l3(out2))\n",
    "        return y_pred"
   ]
  },
  {
   "cell_type": "code",
   "execution_count": 5,
   "metadata": {},
   "outputs": [
    {
     "name": "stderr",
     "output_type": "stream",
     "text": [
      "D:\\Program Files\\Anaconda3\\lib\\site-packages\\torch\\nn\\_reduction.py:49: UserWarning: size_average and reduce args will be deprecated, please use reduction='mean' instead.\n",
      "  warnings.warn(warning.format(ret))\n"
     ]
    }
   ],
   "source": [
    "model = Model()\n",
    "criterion = torch.nn.BCELoss(size_average=True)\n",
    "optimizer = torch.optim.SGD(model.parameters(), lr=0.1)"
   ]
  },
  {
   "cell_type": "code",
   "execution_count": 8,
   "metadata": {},
   "outputs": [
    {
     "name": "stdout",
     "output_type": "stream",
     "text": [
      "Epoch= 0 i= 0 loss= tensor(0.6262)\n",
      "Epoch= 0 i= 1 loss= tensor(0.6618)\n",
      "Epoch= 0 i= 2 loss= tensor(0.6080)\n",
      "Epoch= 0 i= 3 loss= tensor(0.5878)\n",
      "Epoch= 0 i= 4 loss= tensor(0.7012)\n",
      "Epoch= 0 i= 5 loss= tensor(0.6248)\n",
      "Epoch= 0 i= 6 loss= tensor(0.6817)\n",
      "Epoch= 0 i= 7 loss= tensor(0.6624)\n",
      "Epoch= 0 i= 8 loss= tensor(0.6068)\n",
      "Epoch= 0 i= 9 loss= tensor(0.6245)\n",
      "Epoch= 0 i= 10 loss= tensor(0.7589)\n",
      "Epoch= 0 i= 11 loss= tensor(0.6799)\n",
      "Epoch= 0 i= 12 loss= tensor(0.6615)\n",
      "Epoch= 0 i= 13 loss= tensor(0.6089)\n",
      "Epoch= 0 i= 14 loss= tensor(0.6437)\n",
      "Epoch= 0 i= 15 loss= tensor(0.6439)\n",
      "Epoch= 0 i= 16 loss= tensor(0.6068)\n",
      "Epoch= 0 i= 17 loss= tensor(0.6059)\n",
      "Epoch= 0 i= 18 loss= tensor(0.6630)\n",
      "Epoch= 0 i= 19 loss= tensor(0.5854)\n",
      "Epoch= 0 i= 20 loss= tensor(0.6834)\n",
      "Epoch= 0 i= 21 loss= tensor(0.6239)\n",
      "Epoch= 0 i= 22 loss= tensor(0.6234)\n",
      "Epoch= 0 i= 23 loss= tensor(0.7571)\n",
      "Epoch= 1 i= 0 loss= tensor(0.6244)\n",
      "Epoch= 1 i= 1 loss= tensor(0.7197)\n",
      "Epoch= 1 i= 2 loss= tensor(0.6438)\n",
      "Epoch= 1 i= 3 loss= tensor(0.6436)\n",
      "Epoch= 1 i= 4 loss= tensor(0.5696)\n",
      "Epoch= 1 i= 5 loss= tensor(0.7604)\n",
      "Epoch= 1 i= 6 loss= tensor(0.5350)\n",
      "Epoch= 1 i= 7 loss= tensor(0.7411)\n",
      "Epoch= 1 i= 8 loss= tensor(0.6994)\n",
      "Epoch= 1 i= 9 loss= tensor(0.6799)\n",
      "Epoch= 1 i= 10 loss= tensor(0.5911)\n",
      "Epoch= 1 i= 11 loss= tensor(0.5883)\n",
      "Epoch= 1 i= 12 loss= tensor(0.6240)\n",
      "Epoch= 1 i= 13 loss= tensor(0.6627)\n",
      "Epoch= 1 i= 14 loss= tensor(0.6434)\n",
      "Epoch= 1 i= 15 loss= tensor(0.6432)\n",
      "Epoch= 1 i= 16 loss= tensor(0.6429)\n",
      "Epoch= 1 i= 17 loss= tensor(0.6239)\n",
      "Epoch= 1 i= 18 loss= tensor(0.6831)\n",
      "Epoch= 1 i= 19 loss= tensor(0.6817)\n",
      "Epoch= 1 i= 20 loss= tensor(0.5679)\n",
      "Epoch= 1 i= 21 loss= tensor(0.6626)\n",
      "Epoch= 1 i= 22 loss= tensor(0.5451)\n",
      "Epoch= 1 i= 23 loss= tensor(0.7621)\n"
     ]
    }
   ],
   "source": [
    "for epoch in range(2):\n",
    "    for i, data in enumerate(train_loader):\n",
    "        # get the inputs\n",
    "        inputs, labels = data\n",
    "\n",
    "        # wrap them in Variable\n",
    "        inputs, labels = Variable(inputs), Variable(labels)\n",
    "\n",
    "        # Forward pass: Compute predicted y by passing x to the model\n",
    "        y_pred = model(inputs)\n",
    "\n",
    "        # Compute and print loss\n",
    "        loss = criterion(y_pred, labels)\n",
    "        print('Epoch=',epoch, 'i=', i, 'loss=',loss.data)\n",
    "\n",
    "        # Zero gradients, perform a backward pass, and update the weights.\n",
    "        optimizer.zero_grad()\n",
    "        loss.backward()\n",
    "        optimizer.step()"
   ]
  },
  {
   "cell_type": "code",
   "execution_count": null,
   "metadata": {},
   "outputs": [],
   "source": []
  }
 ],
 "metadata": {
  "kernelspec": {
   "display_name": "Python 3",
   "language": "python",
   "name": "python3"
  },
  "language_info": {
   "codemirror_mode": {
    "name": "ipython",
    "version": 3
   },
   "file_extension": ".py",
   "mimetype": "text/x-python",
   "name": "python",
   "nbconvert_exporter": "python",
   "pygments_lexer": "ipython3",
   "version": "3.6.5"
  }
 },
 "nbformat": 4,
 "nbformat_minor": 2
}
